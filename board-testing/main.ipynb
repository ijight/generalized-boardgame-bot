{
 "cells": [
  {
   "cell_type": "code",
   "execution_count": 1,
   "metadata": {},
   "outputs": [],
   "source": [
    "import cv2\n",
    "from imutils import contours\n",
    "import numpy as np\n",
    "import pynput"
   ]
  },
  {
   "cell_type": "code",
   "execution_count": 2,
   "metadata": {},
   "outputs": [
    {
     "data": {
      "text/plain": [
       "True"
      ]
     },
     "execution_count": 2,
     "metadata": {},
     "output_type": "execute_result"
    }
   ],
   "source": [
    "image = cv2.imread('1.png')\n",
    "gray = cv2.cvtColor(image, cv2.COLOR_BGR2GRAY)\n",
    "cv2.imwrite(\"2-1.png\", gray)\n",
    "thresh = cv2.adaptiveThreshold(gray,255,cv2.ADAPTIVE_THRESH_GAUSSIAN_C, cv2.THRESH_BINARY_INV,57,5)\n",
    "cv2.imwrite(\"2.png\", thresh)"
   ]
  },
  {
   "cell_type": "code",
   "execution_count": 3,
   "metadata": {},
   "outputs": [
    {
     "data": {
      "text/plain": [
       "True"
      ]
     },
     "execution_count": 3,
     "metadata": {},
     "output_type": "execute_result"
    }
   ],
   "source": [
    "# Filter out all numbers and noise to isolate only boxes\n",
    "cnts = cv2.findContours(thresh, cv2.RETR_TREE, cv2.CHAIN_APPROX_SIMPLE)\n",
    "cnts = cnts[0] if len(cnts) == 2 else cnts[1]\n",
    "for c in cnts:\n",
    "    area = cv2.contourArea(c)\n",
    "    if area < 1000:\n",
    "        cv2.drawContours(thresh, [c], -1, (0,0,0), -1)\n",
    "        \n",
    "cv2.imwrite(\"3.png\", thresh)"
   ]
  },
  {
   "cell_type": "code",
   "execution_count": 4,
   "metadata": {},
   "outputs": [
    {
     "data": {
      "text/plain": [
       "True"
      ]
     },
     "execution_count": 4,
     "metadata": {},
     "output_type": "execute_result"
    }
   ],
   "source": [
    "# Fix horizontal and vertical lines\n",
    "vertical_kernel = cv2.getStructuringElement(cv2.MORPH_RECT, (1,5))\n",
    "thresh = cv2.morphologyEx(thresh, cv2.MORPH_CLOSE, vertical_kernel, iterations=9)\n",
    "horizontal_kernel = cv2.getStructuringElement(cv2.MORPH_RECT, (5,1))\n",
    "thresh = cv2.morphologyEx(thresh, cv2.MORPH_CLOSE, horizontal_kernel, iterations=4)\n",
    "\n",
    "cv2.imwrite(\"4.png\", thresh)\n",
    "\n",
    "# Sort by top to bottom and each row by left to right\n",
    "invert = 255 - thresh\n",
    "cnts = cv2.findContours(invert, cv2.RETR_TREE, cv2.CHAIN_APPROX_SIMPLE)\n",
    "cnts = cnts[0] if len(cnts) == 2 else cnts[1]\n",
    "(cnts, _) = contours.sort_contours(cnts, method=\"top-to-bottom\")\n",
    "\n",
    "rows = []\n",
    "row = []\n",
    "for (i, c) in enumerate(cnts, 1):\n",
    "    area = cv2.contourArea(c)\n",
    "    if area < 50000:\n",
    "        row.append(c)\n",
    "        if i % 8 == 0:  \n",
    "            (cnts, _) = contours.sort_contours(row, method=\"left-to-right\")\n",
    "            rows.append(cnts)\n",
    "            row = []\n",
    "\n",
    "\n",
    "# Iterate through each box\n",
    "# for row in rows:\n",
    "#     for c in row:\n",
    "#         mask = np.zeros(image.shape, dtype=np.uint8)\n",
    "#         cv2.drawContours(mask, [c], -1, (255,255,255), -1)\n",
    "#         result = cv2.bitwise_and(image, mask)\n",
    "#         result[mask==0] = 255\n",
    "#         cv2.imshow('result', result)\n",
    "#         cv2.waitKey(175)\n",
    "\n",
    "cv2.imwrite('thresh.png', thresh)\n",
    "cv2.imwrite('invert.png', invert)\n"
   ]
  },
  {
   "cell_type": "code",
   "execution_count": 5,
   "metadata": {},
   "outputs": [],
   "source": [
    "def draw_grid(img, grid_shape, color=(0, 255, 0), thickness=1):\n",
    "    h, w, _ = img.shape\n",
    "    rows, cols = grid_shape\n",
    "    dy, dx = h / rows, w / cols\n",
    "\n",
    "    # draw vertical lines\n",
    "    for x in np.linspace(start=dx, stop=w-dx, num=cols-1):\n",
    "        x = int(round(x))\n",
    "        cv2.line(img, (x, 0), (x, h), color=color, thickness=thickness)\n",
    "\n",
    "    # draw horizontal lines\n",
    "    for y in np.linspace(start=dy, stop=h-dy, num=rows-1):\n",
    "        y = int(round(y))\n",
    "        cv2.line(img, (0, y), (w, y), color=color, thickness=thickness)\n",
    "\n",
    "    return img"
   ]
  },
  {
   "cell_type": "code",
   "execution_count": 15,
   "metadata": {},
   "outputs": [],
   "source": [
    "grid_image = cv2.imread('3.png')\n",
    "draw_grid(grid_image, (8,8))\n",
    "grid_image = cv2.imwrite('3.png', grid_image)\n",
    "grid_image = cv2.imread('1-1.png')\n",
    "\n",
    "def slice_board(board, nslices):\n",
    "    h, w, channels = board.shape\n",
    "    slicesY = [(h//nslices)*n for n in range(1,nslices+1)]\n",
    "    slicesX = [(w//nslices)*n for n in range(1,nslices+1)]\n",
    "    tiles = []\n",
    "    prevY = 0\n",
    "    for y in slicesY:\n",
    "        row = board[prevY:y, :]\n",
    "        prevY = y\n",
    "        prevX = 0\n",
    "        for x in slicesX:\n",
    "            tile = row[:, prevX:x]\n",
    "            tiles.append(tile)\n",
    "            prevX = x\n",
    "    return tiles\n",
    "tiles = slice_board(grid_image, 8)\n",
    "for each in range(0, len(tiles)):\n",
    "    cv2.imshow('tile'+str(each)+'.png', tiles[each]) \n",
    "    cv2.waitKey(0)\n"
   ]
  },
  {
   "cell_type": "code",
   "execution_count": null,
   "metadata": {},
   "outputs": [],
   "source": [
    "# from functools import partial\n",
    "# from PIL import Image\n",
    "# from pynput import mouse\n",
    "# import numpy as np\n",
    "# import io\n",
    "# import cv2 \n",
    "\n",
    "\n",
    "# memoryBuffer = io.BytesIO() \n",
    "# Image.open(\"1.png\").save(memoryBuffer, format='png')\n",
    "# bytes_as_np_array = np.frombuffer(memoryBuffer.getvalue(), dtype=np.uint8)\n",
    "# temp = cv2.imdecode(bytes_as_np_array, cv2.IMREAD_ANYCOLOR)\n",
    "# cv2.imshow(\"tempo\", temp)\n",
    "# cv2.waitKey(0)\n",
    "\n",
    "# memoryBuffer = io.BytesIO() \n",
    "# Image.open(\"2.png\").save(memoryBuffer, format='png')\n",
    "# bytes_as_np_array = np.frombuffer(memoryBuffer.getvalue(), dtype=np.uint8)\n",
    "# temp = cv2.imdecode(bytes_as_np_array, cv2.IMREAD_ANYCOLOR)\n",
    "# cv2.imshow(\"tempo\", temp)\n",
    "# cv2.waitKey(0)\n",
    "# cv2.destroyAllWindows()\n"
   ]
  }
 ],
 "metadata": {
  "kernelspec": {
   "display_name": "Python 3.10.4 64-bit",
   "language": "python",
   "name": "python3"
  },
  "language_info": {
   "codemirror_mode": {
    "name": "ipython",
    "version": 3
   },
   "file_extension": ".py",
   "mimetype": "text/x-python",
   "name": "python",
   "nbconvert_exporter": "python",
   "pygments_lexer": "ipython3",
   "version": "3.10.4"
  },
  "orig_nbformat": 4,
  "vscode": {
   "interpreter": {
    "hash": "369f2c481f4da34e4445cda3fffd2e751bd1c4d706f27375911949ba6bb62e1c"
   }
  }
 },
 "nbformat": 4,
 "nbformat_minor": 2
}
